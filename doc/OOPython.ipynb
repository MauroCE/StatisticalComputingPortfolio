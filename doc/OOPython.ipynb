{
 "cells": [
  {
   "cell_type": "markdown",
   "metadata": {},
   "source": [
    "# Object Oriented Programming in Python"
   ]
  },
  {
   "cell_type": "markdown",
   "metadata": {},
   "source": [
    "Object-Oriented programming is a way of writing programs so that properties and behaviors are packed up together in **objects**. Everything in Python is an instance of a class. Classes define _data structures_.\n",
    "\n",
    "When we create a new class, we are creating a new **type** of object. This then allows us to make **instances** of that type. In Python all methods of a class are **virtual** meaning that they can be:\n",
    "\n",
    "* Inherited\n",
    "* Overridden\n",
    "\n",
    "Built-in types can be used as **base classes**."
   ]
  },
  {
   "cell_type": "markdown",
   "metadata": {},
   "source": [
    "### Prerequisites"
   ]
  },
  {
   "cell_type": "markdown",
   "metadata": {},
   "source": [
    "* **Name Space**: A mapping from names to objects. Most namespaces are implemented as Python _dictionaries_. Examples are:\n",
    "    * Set of _built-in names_ such as `abs()`.\n",
    "    * _Global names_ in a module.\n",
    "    * _Local names_ in a function invocation.\n",
    "    \n",
    "  The set of attributes of an object also forms a namespace. _There is no relation between names in different namespaces_.\n",
    "* **Scope**: Region of Python code where a namespace is directly accessible. During execution there are always at least $3$ different scopes, here listed from innermost to outermost:\n",
    "    * Scope containing Local names\n",
    "    * Scope of \"enclosing\" functions. They will contain non-local, but also non-global names\n",
    "    * Scope containing Global names\n",
    "    * Scope containing Built-in names\n",
    "    \n",
    "The `nonlocal` statement can be used to re-define the value of a variable that is defined in a non-local scope but not in the global scope. Below there is an example of its usage."
   ]
  },
  {
   "cell_type": "code",
   "execution_count": 4,
   "metadata": {},
   "outputs": [
    {
     "data": {
      "text/plain": [
       "'this is now local.'"
      ]
     },
     "execution_count": 4,
     "metadata": {},
     "output_type": "execute_result"
    }
   ],
   "source": [
    "# Define a function inside a function\n",
    "def enclosing_function():\n",
    "    non_local_var = \"this is non-local\"\n",
    "    # Define an inner function. Inside this, we will modify non_local_var using nonlocal keyword.\n",
    "    def inner_function():\n",
    "        # Tell the local scope to treat non_local_var from the nearest non-local scope, which is the\n",
    "        # scope of `enclosing_function()`.\n",
    "        nonlocal non_local_var\n",
    "        non_local_var = \"this is now local.\"\n",
    "    # Run the inner function to modify nonlocally\n",
    "    inner_function()\n",
    "    return non_local_var\n",
    "\n",
    "# Running the function we can see the value of non_local_var changes\n",
    "enclosing_function()"
   ]
  },
  {
   "cell_type": "markdown",
   "metadata": {},
   "source": [
    "In Python it is important to understand that if no `global` keyword is used, then assignment to names happens in the innermost scope. Remember that assignments **do not copy data**, they only bind names to objects."
   ]
  },
  {
   "cell_type": "markdown",
   "metadata": {},
   "source": [
    "# Classes"
   ]
  },
  {
   "cell_type": "markdown",
   "metadata": {},
   "source": [
    "Class definitions need to be executed before they have an effect. When a class is defined, we create a new namespace and it is used as the local scope. To see how classes work in Python, let's make a toy example."
   ]
  },
  {
   "cell_type": "code",
   "execution_count": 49,
   "metadata": {},
   "outputs": [
    {
     "name": "stdout",
     "output_type": "stream",
     "text": [
      "Object description via __str__():  An instance of a Car with 4 wheels and 0 passengers.\n",
      "Number of doors in instance x:  5\n",
      "Number of doors in instance y:  5\n",
      "Current passengers:  ['Austin']\n",
      "Number of passengers:  1\n",
      "The sound of 3 cars is:  broom, broom, broom!\n",
      "These are the passengers returned by an Accessor:  ['Austin']\n",
      "Instance x now has 10 doors.\n",
      "Instance y now has 10 doors.\n",
      "Ford is a car, and we initialize it as the super. It has 4 wheels\n",
      "Ford also has a model:  s\n",
      "This method has been overwritten!\n",
      "The model of this Ford car given by the new accessor is:  s\n"
     ]
    }
   ],
   "source": [
    "class Car:\n",
    "    \"\"\"A very basic blueprint for a car.\n",
    "    Here is where you can define class variables that are shared across \n",
    "    all instances of the class.\n",
    "    \n",
    "    In the methods below the first argument is often `self`. This indicates that we are passing \n",
    "    the current instance to such method. Notice, however, that this is NOT a keyword. That is, we\n",
    "    could literally replace it with anything else, such as `me` and it would still work. Therefore\n",
    "    `self` is only a convention. What matters is that the first argument is the instance, but we can call it\n",
    "    as we want. If, however, we call it `me`, for instance, then in the methods we need to use \n",
    "    `me.n_wheels` instead of `self.n_wheels`.\"\"\"\n",
    "    \n",
    "    # Class variables\n",
    "    n_doors = 5\n",
    "    \n",
    "    \n",
    "    def __init__(self, n_wheels):\n",
    "        \"\"\"Constructor. This is used to instantiate an object with a specific initial state. When\n",
    "        a class is instantiated, __init__() is automatically called. We can add parameters to the\n",
    "        __init__() function so that we can instantiate an object, give some parameters and these \n",
    "        will be passed to __init__().\"\"\"\n",
    "        \n",
    "        # There are instance variables\n",
    "        self.n_wheels = n_wheels\n",
    "        self.n_passengers = 0\n",
    "        self.pass_names = []  # List containing names of passengers.\n",
    "        \n",
    "    def __repr__(self):\n",
    "        \"\"\"This method is called by repr(). It must output a string. This string should \n",
    "        ideally be a valid Python expression that could be used to recreate an object with\n",
    "        the same value / state. Often used for debugging.\"\"\"\n",
    "        return \"Car(n_wheels=%r)\" % self.n_wheels\n",
    "    \n",
    "    def __str__(self):\n",
    "        \"\"\"This method is similar to __repr__() but it is used when print() is called on an instance\n",
    "        of the class. This should be human-readable.\"\"\"\n",
    "        return \"An instance of a Car with %s wheels and %r passengers.\" % (self.n_wheels, self.n_passengers)\n",
    "    \n",
    "    def add_passenger(self, name):\n",
    "        \"\"\"This instance method is a Mutator. It is used to add a new passenger to the car.\n",
    "        The new passenger needs to have a name, which is passed in the arguments of this method.\n",
    "        The name is then appended to the instance variable self.pass_names. Then we add 1 to the \n",
    "        passenger counter given by the instance variable self.n_passengers.\"\"\"\n",
    "        \n",
    "        # Append name to list of passengers & increase counter\n",
    "        self.pass_names.append(name)\n",
    "        self.n_passengers += 1\n",
    "        \n",
    "    def get_passengers(self):\n",
    "        \"\"\"This method is an Accessor method. It is used to read the passengers in the car. Clearly \n",
    "        one could simply access the field from the instantiate object using the dot notation, \n",
    "        however by convention this is a better workflow.\"\"\"\n",
    "        return(self.pass_names)\n",
    "        \n",
    "    @staticmethod\n",
    "    def car_sound(n=1):\n",
    "        \"\"\"This method is a static method, meaning that it can be used even if the class has not been instantiated.\n",
    "        Notably, we use the magic `@staticmethod` to let Python know we are about to define a static method. \n",
    "        Also, notice how we do not pass the instance of the class, i.e. `self`, as an argument.\n",
    "        \n",
    "        This method simply concatenates 'broom' n times.\"\"\"\n",
    "        if n <= 0:\n",
    "            raise ValueError(\"Input argument n must be strictly positive\")\n",
    "        else:\n",
    "            return(\", \".join([\"broom\" for i in range(n)]) + \"!\")\n",
    "        \n",
    "    def abstract_method(self, param1, param2):\n",
    "        \"\"\"This is an abstract method. The signature is implemented but the function \n",
    "        does literally nothing. It can be useful for interfaces or to remind the programmer \n",
    "        of possible future implementations.\"\"\"\n",
    "        pass\n",
    "    \n",
    "    @classmethod\n",
    "    def change_n_doors(cls, n_doors):\n",
    "        \"\"\"This is a class method. It is recognizable by the `@classmethod` decorator. Notice \n",
    "        how we've called the first argument `cls` rather than `self`. This is again a convention \n",
    "        for readability. The first argument needs to be the class object.\n",
    "        \n",
    "        The difference between a class method and a static method is that the static method \n",
    "        does not receive an implicit first argument like `cls` or `self`. Another important difference \n",
    "        is that a class method can access and modify class variables (but obviously cannot access \n",
    "        nor modify instance variables). Instead, a static method cannot access nor modify class variables, \n",
    "        nor instance variables. A static method is present as a method of the class simply because it makes \n",
    "        sense to be in that context. \n",
    "        \n",
    "        A class method can be used to modify a class variable across all instances. For instance this \n",
    "        class method changes the number of doors of the class car.\n",
    "        \"\"\"\n",
    "        # From now on all instances will have n doors rather than 5.\n",
    "        cls.n_doors = n_doors\n",
    "    \n",
    "        \n",
    "class Ford(Car):\n",
    "    \"\"\"This class inherits from the Car class.\"\"\"\n",
    "    \n",
    "    def __init__(self, n_wheels, model=\"s\"):\n",
    "        \"\"\"Constructor. Notice that this sub-class does not inherit the constructor of its \n",
    "        super class by default. If we want to inherit the initalization we can use\n",
    "        super().__init__(n_wheels)\"\"\"\n",
    "        \n",
    "        super().__init__(n_wheels)\n",
    "        self.model = model\n",
    "        \n",
    "    def get_passengers(self):\n",
    "        \"\"\"Methods can be overwritten by specifying them again.\"\"\"\n",
    "        return(\"This method has been overwritten!\")\n",
    "    \n",
    "    def get_model(self):\n",
    "        \"\"\"This Accessor is used to show that sub-classes can be useful for extending the functionality \n",
    "        of a class.\"\"\"\n",
    "        return(self.model)\n",
    "\n",
    "\n",
    "# We can instantiate a class using function notation. The following command creates a new instance of the Car\n",
    "# class and assigns it to the local variable x.\n",
    "x = Car(n_wheels=4)\n",
    "\n",
    "# Thanks to the __repr__() method we can create a copy of the class like this\n",
    "y = eval(repr(x))\n",
    "\n",
    "# We can print out the human-readable description as follows\n",
    "print(\"Object description via __str__(): \", x)\n",
    "\n",
    "# We can access the class variables like this\n",
    "print(\"Number of doors in instance x: \", x.n_doors)\n",
    "print(\"Number of doors in instance y: \", y.n_doors)\n",
    "\n",
    "# Now we add a passenger called Austin to x\n",
    "x.add_passenger(\"Austin\")\n",
    "\n",
    "# Let's check the passenger counter and the list of passengers\n",
    "print(\"Current passengers: \", x.pass_names)\n",
    "print(\"Number of passengers: \", x.n_passengers)\n",
    "\n",
    "# Use static method on the Class\n",
    "print(\"The sound of 3 cars is: \", Car.car_sound(3))\n",
    "\n",
    "# Get the passengers using an Accessor\n",
    "print(\"These are the passengers returned by an Accessor: \", x.get_passengers())\n",
    "\n",
    "# Call the abstract method\n",
    "x.abstract_method(1, 2)\n",
    "\n",
    "# Now change the class variable n_doors for all instances at once.\n",
    "Car.change_n_doors(10)\n",
    "print(\"Instance x now has %s doors.\" % x.n_doors)\n",
    "print(\"Instance y now has %s doors.\" % y.n_doors)\n",
    "\n",
    "# Instantiate an object of the Ford subclass.\n",
    "z = Ford(4, \"s\")\n",
    "# Check that is has the attributes of the superclass\n",
    "print(\"Ford is a car, and we initialize it as the super. It has %s wheels\" % z.n_wheels)\n",
    "print(\"Ford also has a model: \", z.model)\n",
    "print(z.get_passengers())\n",
    "print(\"The model of this Ford car given by the new accessor is: \", z.get_model())"
   ]
  },
  {
   "cell_type": "code",
   "execution_count": null,
   "metadata": {},
   "outputs": [],
   "source": []
  }
 ],
 "metadata": {
  "kernelspec": {
   "display_name": "Python 3",
   "language": "python",
   "name": "python3"
  },
  "language_info": {
   "codemirror_mode": {
    "name": "ipython",
    "version": 3
   },
   "file_extension": ".py",
   "mimetype": "text/x-python",
   "name": "python",
   "nbconvert_exporter": "python",
   "pygments_lexer": "ipython3",
   "version": "3.7.4"
  }
 },
 "nbformat": 4,
 "nbformat_minor": 4
}
