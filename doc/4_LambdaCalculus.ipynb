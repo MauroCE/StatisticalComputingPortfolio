{
 "cells": [
  {
   "cell_type": "markdown",
   "metadata": {},
   "source": [
    "# Lambda Calculus"
   ]
  },
  {
   "cell_type": "markdown",
   "metadata": {},
   "source": [
    "Universal programming language. It is universal because any function can be expressed and evaluated with the lambda calculus formalism. Imagine a simple calculator machine. Its main limitation is that there is no way of _generalizing_ a calculation so that it can be used again and again with _different values_.\n",
    "\n"
   ]
  },
  {
   "cell_type": "markdown",
   "metadata": {},
   "source": [
    "Usually in programming languages **names** stand for **general values**. When we run the program, names take on particular values from the **input**. The main difference between imperative programming languages and functional programming languages is in the **rules** on the association of names and values. "
   ]
  }
 ],
 "metadata": {
  "kernelspec": {
   "display_name": "Python 3",
   "language": "python",
   "name": "python3"
  },
  "language_info": {
   "codemirror_mode": {
    "name": "ipython",
    "version": 3
   },
   "file_extension": ".py",
   "mimetype": "text/x-python",
   "name": "python",
   "nbconvert_exporter": "python",
   "pygments_lexer": "ipython3",
   "version": "3.7.4"
  }
 },
 "nbformat": 4,
 "nbformat_minor": 4
}
